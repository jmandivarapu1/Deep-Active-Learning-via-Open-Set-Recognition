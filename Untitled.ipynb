{
 "cells": [
  {
   "cell_type": "code",
   "execution_count": null,
   "metadata": {},
   "outputs": [],
   "source": [
    "class WRN(nn.Module):\n",
    "    \"\"\"\n",
    "    Flexibly sized Wide Residual Network (WRN). Extended to the variational setting.\n",
    "    \"\"\"\n",
    "    def __init__(self, device, num_classes, num_colors, args):\n",
    "        super(WRN, self).__init__()\n",
    "        \n",
    "        self.encoder = make_layers([64, 64, 'M', 128, 128, 'M', 256, 256, 256, 'M', 512, 512, 512, 'M', 512, 512, 512, 'M'],batch_norm=True)\n",
    "        \n",
    "        # self.encoder = nn.Sequential(OrderedDict([\n",
    "        #     ('encoder_conv1', nn.Conv2d(num_colors, self.nChannels[0], kernel_size=3, stride=1, padding=1, bias=False)),\n",
    "        #     ('encoder_block1', WRNNetworkBlock(self.num_block_layers, self.nChannels[0], self.nChannels[1],\n",
    "        #                                        WRNBasicBlock, batchnorm=self.batch_norm, dropout=self.dropout)),\n",
    "        #     ('encoder_block2', WRNNetworkBlock(self.num_block_layers, self.nChannels[1], self.nChannels[2],\n",
    "        #                                        WRNBasicBlock, batchnorm=self.batch_norm, stride=2,\n",
    "        #                                        dropout=self.dropout)),\n",
    "        #     ('encoder_block3', WRNNetworkBlock(self.num_block_layers, self.nChannels[2], self.nChannels[3],\n",
    "        #                                        WRNBasicBlock, batchnorm=self.batch_norm, stride=2,\n",
    "        #                                        dropout=self.dropout)),\n",
    "        #     ('encoder_bn1', nn.BatchNorm2d(self.nChannels[3], eps=self.batch_norm)),\n",
    "        #     ('encoder_act1', nn.ReLU(inplace=True))\n",
    "        # ]))\n",
    "\n",
    "        self.enc_channels, self.enc_spatial_dim_x, self.enc_spatial_dim_y = get_feat_size(self.encoder, self.patch_size,self.num_colors)\n",
    "        if self.variational:\n",
    "            #print(\"True it's in the args variational\")\n",
    "            self.latent_mu = nn.Linear(self.enc_spatial_dim_x * self.enc_spatial_dim_x * self.enc_channels,self.latent_dim, bias=False)\n",
    "            self.latent_std = nn.Linear(self.enc_spatial_dim_x * self.enc_spatial_dim_y * self.enc_channels,self.latent_dim, bias=False)\n",
    "            self.latent_feat_out = self.latent_dim\n",
    "        else:\n",
    "            self.latent_feat_out = self.enc_spatial_dim_x * self.enc_spatial_dim_x * self.enc_channels\n",
    "            self.latent_dim = self.latent_feat_out\n",
    "            #print(self.latent_dim)\n",
    "\n",
    "        if self.joint:\n",
    "            #print(\"True came to joint training\")\n",
    "            self.classifier = nn.Sequential(nn.Linear(self.latent_feat_out, num_classes, bias=False))\n",
    "\n",
    "            if self.variational:\n",
    "                #print(\"True came to variational\",self.latent_feat_out,self.enc_spatial_dim_x * self.enc_spatial_dim_y *\n",
    "                                               # self.enc_channels)\n",
    "                self.latent_decoder = nn.Linear(self.latent_feat_out, self.enc_spatial_dim_x * self.enc_spatial_dim_y *\n",
    "                                                self.enc_channels, bias=False)\n",
    "\n",
    "            self.decoder =  nn.Sequential(\n",
    "            # nn.Linear(1,self.enc_spatial_dim_x * self.enc_spatial_dim_y *\n",
    "            #                                     self.enc_channels),                           # B, 1024*8*8\n",
    "            # View((-1, 1024, 4, 4)),                               # B, 1024,  8,  8\n",
    "            nn.ConvTranspose2d(512, 512, 3, 1, 1, bias=False),   # B,  512, 16, 16\n",
    "            nn.BatchNorm2d(512),\n",
    "            nn.ReLU(True),\n",
    "            nn.ConvTranspose2d(512, 256, 3, 1, 1, bias=False),    # B,  256, 32, 32\n",
    "            nn.BatchNorm2d(256),\n",
    "            nn.ReLU(True),\n",
    "            nn.ConvTranspose2d(256, 128, 3, 1, 1, bias=False),    # B,  128, 64, 64\n",
    "            nn.BatchNorm2d(128),\n",
    "            nn.ReLU(True),\n",
    "            nn.ConvTranspose2d(128, 3, 1),                       # B,   nc, 64, 64\n",
    "        )\n",
    "            \n",
    "        \n",
    "        else:\n",
    "            self.classifier = nn.Sequential(nn.Linear(self.latent_feat_out, num_classes, bias=False))\n",
    "\n",
    "        # self._initialize_weights()\n",
    "\n",
    "    def encode(self, x):\n",
    "        \n",
    "        x = self.encoder(x)\n",
    "        if self.variational:\n",
    "            x = x.view(x.size(0), -1)\n",
    "            z_mean = self.latent_mu(x)\n",
    "            z_std = self.latent_std(x)\n",
    "            return z_mean, z_std\n",
    "        else:\n",
    "            return x\n",
    "\n",
    "    def reparameterize(self, mu, std):\n",
    "        eps = std.data.new(std.size()).normal_()\n",
    "        return eps.mul(std).add(mu)\n",
    "\n",
    "    def decode(self, z):\n",
    "        if self.variational:\n",
    "            z = self.latent_decoder(z)\n",
    "            z = z.view(z.size(0), self.enc_channels, self.enc_spatial_dim_x, self.enc_spatial_dim_y)\n",
    "            #print(\"shape of z is\",z.shape)\n",
    "        x = self.decoder(z)\n",
    "        return x\n",
    "\n",
    "    def generate(self):\n",
    "        z = torch.randn(self.batch_size, self.latent_dim).to(self.device)\n",
    "        x = self.decode(z)\n",
    "        x = torch.sigmoid(x)\n",
    "        return x\n",
    "\n",
    "    def _initialize_weights(self):\n",
    "        for m in self.modules():\n",
    "            if isinstance(m, nn.Conv2d):\n",
    "                nn.init.kaiming_normal_(m.weight, mode='fan_out', nonlinearity='relu')\n",
    "                if m.bias is not None:\n",
    "                    nn.init.constant_(m.bias, 0)\n",
    "            elif isinstance(m, nn.BatchNorm2d):\n",
    "                nn.init.constant_(m.weight, 1)\n",
    "                nn.init.constant_(m.bias, 0)\n",
    "            elif isinstance(m, nn.Linear):\n",
    "                nn.init.normal_(m.weight, 0, 0.01)\n",
    "                nn.init.constant_(m.bias, 0)\n",
    "\n",
    "\n",
    "\n",
    "    def forward(self, x):\n",
    "        if self.variational:\n",
    "            z_mean, z_std = self.encode(x)\n",
    "            if self.joint:\n",
    "                output_samples = torch.zeros(self.num_samples, x.size(0), self.num_colors, self.patch_size,\n",
    "                                             self.patch_size).to(self.device)\n",
    "                classification_samples = torch.zeros(self.num_samples, x.size(0), self.num_classes).to(self.device)\n",
    "            else:\n",
    "                output_samples = torch.zeros(self.num_samples, x.size(0), self.num_classes).to(self.device)\n",
    "            for i in range(self.num_samples):\n",
    "                z = self.reparameterize(z_mean, z_std)\n",
    "                if self.joint:\n",
    "                    output_samples[i] = self.decode(z)\n",
    "                    classification_samples[i] = self.classifier(z)\n",
    "                else:\n",
    "                    output_samples[i] = self.classifier(z)\n",
    "            if self.joint:\n",
    "                return classification_samples, output_samples, z_mean, z_std\n",
    "            else:\n",
    "                return output_samples, z_mean, z_std\n",
    "        else:\n",
    "            x = self.encode(x)\n",
    "            if self.joint:\n",
    "                recon = self.decode(x)\n",
    "                classification = self.classifier(x.view(x.size(0), -1))\n",
    "                return classification, recon\n",
    "            else:\n",
    "                output = self.classifier(x.view(x.size(0), -1))\n",
    "            return output"
   ]
  },
  {
   "cell_type": "code",
   "execution_count": 167,
   "metadata": {},
   "outputs": [],
   "source": [
    "import pickle"
   ]
  },
  {
   "cell_type": "code",
   "execution_count": 168,
   "metadata": {},
   "outputs": [],
   "source": [
    "with open ('preds', 'rb') as fp:preds = pickle.load(fp)"
   ]
  },
  {
   "cell_type": "code",
   "execution_count": 169,
   "metadata": {},
   "outputs": [
    {
     "data": {
      "text/plain": [
       "tensor([[[ 2.9395, 10.7859,  2.1650,  ..., -0.3317,  0.8344,  3.1302],\n",
       "         [-1.3753,  5.8786, 13.3546,  ..., -0.3534, 10.2178,  0.0306],\n",
       "         [-4.1441, -1.7322,  3.8084,  ..., -4.6307, -1.3064,  4.1851],\n",
       "         ...,\n",
       "         [-2.7443,  1.5793,  0.6929,  ..., -0.3771, -0.0170,  1.9627],\n",
       "         [-2.7359,  1.0664,  3.6035,  ...,  1.5018,  3.2966,  3.2377],\n",
       "         [-2.3677,  2.7351,  3.3575,  ...,  1.1970,  1.8548,  4.4584]]],\n",
       "       device='cuda:0')"
      ]
     },
     "execution_count": 169,
     "metadata": {},
     "output_type": "execute_result"
    }
   ],
   "source": [
    "preds"
   ]
  },
  {
   "cell_type": "code",
   "execution_count": 15,
   "metadata": {},
   "outputs": [
    {
     "data": {
      "text/plain": [
       "torch.Size([128, 10])"
      ]
     },
     "execution_count": 15,
     "metadata": {},
     "output_type": "execute_result"
    }
   ],
   "source": [
    "preds[0].shape#.view(128,10)"
   ]
  },
  {
   "cell_type": "code",
   "execution_count": 21,
   "metadata": {},
   "outputs": [],
   "source": [
    "import torch\n",
    "preds=torch.argmax(preds[0], dim=1).cpu().numpy()"
   ]
  },
  {
   "cell_type": "code",
   "execution_count": 18,
   "metadata": {},
   "outputs": [],
   "source": [
    "with open ('labels', 'rb') as fp:labels = pickle.load(fp)"
   ]
  },
  {
   "cell_type": "code",
   "execution_count": 19,
   "metadata": {},
   "outputs": [
    {
     "data": {
      "text/plain": [
       "tensor([3, 8, 8, 0, 6, 6, 1, 6, 3, 1, 0, 9, 5, 7, 9, 8, 5, 7, 8, 6, 7, 0, 4, 9,\n",
       "        5, 2, 4, 0, 9, 6, 6, 5, 4, 5, 9, 2, 4, 1, 9, 5, 4, 6, 5, 6, 0, 9, 3, 9,\n",
       "        7, 6, 9, 8, 0, 3, 8, 8, 7, 7, 4, 6, 7, 3, 6, 3, 6, 2, 1, 2, 3, 7, 2, 6,\n",
       "        8, 8, 0, 2, 9, 3, 3, 8, 8, 1, 1, 7, 2, 5, 2, 7, 8, 9, 0, 3, 8, 6, 4, 6,\n",
       "        6, 0, 0, 7, 4, 5, 6, 3, 1, 1, 3, 6, 8, 7, 4, 0, 6, 2, 1, 3, 0, 4, 2, 7,\n",
       "        8, 3, 1, 2, 8, 0, 8, 3])"
      ]
     },
     "execution_count": 19,
     "metadata": {},
     "output_type": "execute_result"
    }
   ],
   "source": [
    "labels"
   ]
  },
  {
   "cell_type": "code",
   "execution_count": 22,
   "metadata": {},
   "outputs": [
    {
     "data": {
      "text/plain": [
       "13"
      ]
     },
     "execution_count": 22,
     "metadata": {},
     "output_type": "execute_result"
    }
   ],
   "source": [
    "from sklearn.metrics import accuracy_score\n",
    "\n",
    "accuracy_score(labels, preds, normalize=False)"
   ]
  },
  {
   "cell_type": "code",
   "execution_count": 1,
   "metadata": {},
   "outputs": [],
   "source": [
    "from torchvision import datasets, transforms\n",
    "import torch.utils.data as data"
   ]
  },
  {
   "cell_type": "code",
   "execution_count": 123,
   "metadata": {},
   "outputs": [
    {
     "name": "stderr",
     "output_type": "stream",
     "text": [
      "\n",
      "\n",
      "0it [00:00, ?it/s]\u001b[A\u001b[A"
     ]
    },
    {
     "name": "stdout",
     "output_type": "stream",
     "text": [
      "Downloading http://www.vision.caltech.edu/Image_Datasets/Caltech101/101_ObjectCategories.tar.gz to /mnt/iscsi/data/Jay/datasets/caltech101/101_ObjectCategories.tar.gz\n"
     ]
    },
    {
     "name": "stderr",
     "output_type": "stream",
     "text": [
      "\n",
      "\n",
      "  0%|          | 0/131740031 [00:00<?, ?it/s]\u001b[A\u001b[A\n",
      "\n",
      "  0%|          | 49152/131740031 [00:00<05:50, 376174.74it/s]\u001b[A\u001b[A\n",
      "\n",
      "  0%|          | 221184/131740031 [00:00<04:34, 478424.44it/s]\u001b[A\u001b[A\n",
      "\n",
      "  1%|          | 811008/131740031 [00:00<03:18, 659107.17it/s]\u001b[A\u001b[A\n",
      "\n",
      "  1%|          | 1572864/131740031 [00:00<02:24, 898048.91it/s]\u001b[A\u001b[A\n",
      "\n",
      "  3%|▎         | 4055040/131740031 [00:01<01:41, 1257002.45it/s]\u001b[A\u001b[A\n",
      "\n",
      "  4%|▍         | 5898240/131740031 [00:01<01:12, 1730874.07it/s]\u001b[A\u001b[A\n",
      "\n",
      "  6%|▌         | 7766016/131740031 [00:01<00:52, 2350507.52it/s]\u001b[A\u001b[A\n",
      "\n",
      "  7%|▋         | 9674752/131740031 [00:01<00:38, 3141235.79it/s]\u001b[A\u001b[A\n",
      "\n",
      "  9%|▉         | 11550720/131740031 [00:01<00:28, 4186865.51it/s]\u001b[A\u001b[A\n",
      "\n",
      " 10%|▉         | 12967936/131740031 [00:01<00:22, 5168712.33it/s]\u001b[A\u001b[A\n",
      "\n",
      " 11%|█         | 14581760/131740031 [00:01<00:18, 6469919.10it/s]\u001b[A\u001b[A\n",
      "\n",
      " 13%|█▎        | 16531456/131740031 [00:01<00:14, 8090384.38it/s]\u001b[A\u001b[A\n",
      "\n",
      " 14%|█▎        | 18104320/131740031 [00:02<00:12, 9036455.03it/s]\u001b[A\u001b[A\n",
      "\n",
      " 15%|█▍        | 19677184/131740031 [00:02<00:10, 10358505.86it/s]\u001b[A\u001b[A\n",
      "\n",
      " 16%|█▋        | 21495808/131740031 [00:02<00:09, 11891658.77it/s]\u001b[A\u001b[A\n",
      "\n",
      " 18%|█▊        | 23093248/131740031 [00:02<00:08, 12186476.97it/s]\u001b[A\u001b[A\n",
      "\n",
      " 19%|█▉        | 24936448/131740031 [00:02<00:07, 13450136.76it/s]\u001b[A\u001b[A\n",
      "\n",
      " 20%|██        | 26746880/131740031 [00:02<00:07, 14573994.78it/s]\u001b[A\u001b[A\n",
      "\n",
      " 22%|██▏       | 28401664/131740031 [00:02<00:07, 14225751.22it/s]\u001b[A\u001b[A\n",
      "\n",
      " 23%|██▎       | 30326784/131740031 [00:02<00:06, 15226569.12it/s]\u001b[A\u001b[A\n",
      "\n",
      " 24%|██▍       | 32219136/131740031 [00:02<00:06, 16169186.14it/s]\u001b[A\u001b[A\n",
      "\n",
      " 26%|██▌       | 33939456/131740031 [00:03<00:06, 15434605.56it/s]\u001b[A\u001b[A\n",
      "\n",
      " 27%|██▋       | 35889152/131740031 [00:03<00:05, 16325083.20it/s]\u001b[A\u001b[A\n",
      "\n",
      " 29%|██▊       | 37838848/131740031 [00:03<00:05, 17161797.14it/s]\u001b[A\u001b[A\n",
      "\n",
      " 30%|███       | 39616512/131740031 [00:03<00:05, 16150630.68it/s]\u001b[A\u001b[A\n",
      "\n",
      " 32%|███▏      | 41574400/131740031 [00:03<00:05, 16988678.85it/s]\u001b[A\u001b[A\n",
      "\n",
      " 33%|███▎      | 43458560/131740031 [00:03<00:05, 17500408.84it/s]\u001b[A\u001b[A\n",
      "\n",
      " 34%|███▍      | 45252608/131740031 [00:03<00:05, 16526245.73it/s]\u001b[A\u001b[A\n",
      "\n",
      " 36%|███▌      | 47398912/131740031 [00:03<00:04, 17566802.43it/s]\u001b[A\u001b[A\n",
      "\n",
      " 37%|███▋      | 49201152/131740031 [00:03<00:04, 17688859.20it/s]\u001b[A\u001b[A\n",
      "\n",
      " 39%|███▊      | 51003392/131740031 [00:03<00:04, 17772880.73it/s]\u001b[A\u001b[A\n",
      "\n",
      " 40%|████      | 53026816/131740031 [00:04<00:04, 18444184.18it/s]\u001b[A\u001b[A\n",
      "\n",
      " 42%|████▏     | 54894592/131740031 [00:04<00:04, 17257131.73it/s]\u001b[A\u001b[A\n",
      "\n",
      " 43%|████▎     | 56918016/131740031 [00:04<00:04, 18009005.02it/s]\u001b[A\u001b[A\n",
      "\n",
      " 45%|████▍     | 58810368/131740031 [00:04<00:03, 18268861.73it/s]\u001b[A\u001b[A\n",
      "\n",
      " 46%|████▌     | 60661760/131740031 [00:04<00:03, 18291449.31it/s]\u001b[A\u001b[A\n",
      "\n",
      " 48%|████▊     | 62734336/131740031 [00:04<00:03, 18950956.00it/s]\u001b[A\u001b[A\n",
      "\n",
      " 49%|████▉     | 64651264/131740031 [00:04<00:03, 17723050.15it/s]\u001b[A\u001b[A\n",
      "\n",
      " 51%|█████     | 66666496/131740031 [00:04<00:03, 18360520.31it/s]\u001b[A\u001b[A\n",
      "\n",
      " 52%|█████▏    | 68599808/131740031 [00:04<00:03, 18639057.57it/s]\u001b[A\u001b[A\n",
      "\n",
      " 54%|█████▎    | 70483968/131740031 [00:05<00:03, 17698979.65it/s]\u001b[A\u001b[A\n",
      "\n",
      " 55%|█████▌    | 72744960/131740031 [00:05<00:03, 18837587.04it/s]\u001b[A\u001b[A\n",
      "\n",
      " 57%|█████▋    | 74670080/131740031 [00:05<00:03, 18650194.06it/s]\u001b[A\u001b[A\n",
      "\n",
      " 58%|█████▊    | 76660736/131740031 [00:05<00:02, 18988748.23it/s]\u001b[A\u001b[A\n",
      "\n",
      " 60%|█████▉    | 78618624/131740031 [00:05<00:02, 19161017.72it/s]\u001b[A\u001b[A\n",
      "\n",
      " 61%|██████    | 80551936/131740031 [00:05<00:03, 16494039.46it/s]\u001b[A\u001b[A\n",
      "\n",
      " 63%|██████▎   | 82673664/131740031 [00:05<00:02, 17674124.57it/s]\u001b[A\u001b[A\n",
      "\n",
      " 64%|██████▍   | 84525056/131740031 [00:05<00:02, 16333758.76it/s]\u001b[A\u001b[A\n",
      "\n",
      " 65%|██████▌   | 86237184/131740031 [00:05<00:02, 15305864.89it/s]\u001b[A\u001b[A\n",
      "\n",
      " 67%|██████▋   | 87834624/131740031 [00:06<00:02, 14726631.31it/s]\u001b[A\u001b[A\n",
      "\n",
      " 68%|██████▊   | 89497600/131740031 [00:06<00:02, 14930031.30it/s]\u001b[A\u001b[A\n",
      "\n",
      " 69%|██████▉   | 91029504/131740031 [00:06<00:02, 14725144.53it/s]\u001b[A\u001b[A\n",
      "\n",
      " 70%|███████   | 92528640/131740031 [00:06<00:02, 14026041.38it/s]\u001b[A\u001b[A\n",
      "\n",
      " 71%|███████▏  | 94150656/131740031 [00:06<00:02, 14585044.29it/s]\u001b[A\u001b[A\n",
      "\n",
      " 73%|███████▎  | 95633408/131740031 [00:06<00:02, 14369417.92it/s]\u001b[A\u001b[A\n",
      "\n",
      " 74%|███████▎  | 97148928/131740031 [00:06<00:02, 14074701.94it/s]\u001b[A\u001b[A\n",
      "\n",
      " 75%|███████▌  | 98910208/131740031 [00:06<00:02, 14688955.14it/s]\u001b[A\u001b[A\n",
      "\n",
      " 76%|███████▌  | 100401152/131740031 [00:06<00:02, 14489012.46it/s]\u001b[A\u001b[A\n",
      "\n",
      " 77%|███████▋  | 101974016/131740031 [00:07<00:02, 14300493.05it/s]\u001b[A\u001b[A\n",
      "\n",
      " 79%|███████▉  | 103751680/131740031 [00:07<00:01, 14907480.32it/s]\u001b[A\u001b[A\n",
      "\n",
      " 80%|███████▉  | 105259008/131740031 [00:07<00:01, 14692047.00it/s]\u001b[A\u001b[A\n",
      "\n",
      " 81%|████████  | 106864640/131740031 [00:07<00:01, 14517832.54it/s]\u001b[A\u001b[A\n",
      "\n",
      " 82%|████████▏ | 108683264/131740031 [00:07<00:01, 15158744.51it/s]\u001b[A\u001b[A\n",
      "\n",
      " 84%|████████▎ | 110215168/131740031 [00:07<00:01, 14925824.14it/s]\u001b[A\u001b[A\n",
      "\n",
      " 85%|████████▍ | 111845376/131740031 [00:07<00:01, 14758605.57it/s]\u001b[A\u001b[A\n",
      "\n",
      " 86%|████████▋ | 113672192/131740031 [00:07<00:01, 15315810.42it/s]\u001b[A\u001b[A\n",
      "\n",
      " 87%|████████▋ | 115220480/131740031 [00:07<00:01, 15148995.16it/s]\u001b[A\u001b[A\n",
      "\n",
      " 89%|████████▊ | 116899840/131740031 [00:08<00:00, 15039553.15it/s]\u001b[A\u001b[A\n",
      "\n",
      " 90%|█████████ | 118718464/131740031 [00:08<00:00, 15512479.66it/s]\u001b[A\u001b[A\n",
      "\n",
      " 91%|█████████▏| 120283136/131740031 [00:08<00:00, 15335494.28it/s]\u001b[A\u001b[A\n",
      "\n",
      " 93%|█████████▎| 121995264/131740031 [00:08<00:00, 15262133.70it/s]\u001b[A\u001b[A\n",
      "\n",
      " 94%|█████████▍| 123854848/131740031 [00:08<00:00, 15718965.26it/s]\u001b[A\u001b[A\n",
      "\n",
      " 95%|█████████▌| 125435904/131740031 [00:08<00:00, 15510356.12it/s]\u001b[A\u001b[A\n",
      "\n",
      " 96%|█████████▋| 127123456/131740031 [00:08<00:00, 15383198.48it/s]\u001b[A\u001b[A\n",
      "\n",
      " 98%|█████████▊| 128999424/131740031 [00:08<00:00, 15844803.69it/s]\u001b[A\u001b[A\n",
      "\n",
      " 99%|█████████▉| 130596864/131740031 [00:08<00:00, 15710009.46it/s]\u001b[A\u001b[A"
     ]
    },
    {
     "name": "stdout",
     "output_type": "stream",
     "text": [
      "Extracting /mnt/iscsi/data/Jay/datasets/caltech101/101_ObjectCategories.tar.gz to /mnt/iscsi/data/Jay/datasets/caltech101\n"
     ]
    },
    {
     "name": "stderr",
     "output_type": "stream",
     "text": [
      "\n",
      "\n",
      "\n",
      "0it [00:00, ?it/s]\u001b[A\u001b[A\u001b[A"
     ]
    },
    {
     "name": "stdout",
     "output_type": "stream",
     "text": [
      "Downloading http://www.vision.caltech.edu/Image_Datasets/Caltech101/Annotations.tar to /mnt/iscsi/data/Jay/datasets/caltech101/101_Annotations.tar\n"
     ]
    },
    {
     "name": "stderr",
     "output_type": "stream",
     "text": [
      "\n",
      "\n",
      "\n",
      "  0%|          | 0/14028800 [00:00<?, ?it/s]\u001b[A\u001b[A\u001b[A\n",
      "\n",
      "\n",
      "  0%|          | 49152/14028800 [00:00<00:37, 368228.82it/s]\u001b[A\u001b[A\u001b[A\n",
      "\n",
      "\n",
      "  2%|▏         | 221184/14028800 [00:00<00:29, 468932.82it/s]\u001b[A\u001b[A\u001b[A\n",
      "\n",
      "\n",
      "  6%|▋         | 892928/14028800 [00:00<00:20, 644563.58it/s]\u001b[A\u001b[A\u001b[A\n",
      "\n",
      "\n",
      " 12%|█▏        | 1728512/14028800 [00:00<00:13, 882239.93it/s]\u001b[A\u001b[A\u001b[A\n",
      "\n",
      "\n",
      " 27%|██▋       | 3776512/14028800 [00:00<00:08, 1229951.02it/s]\u001b[A\u001b[A\u001b[A\n",
      "\n",
      "\n",
      " 36%|███▋      | 5087232/14028800 [00:01<00:05, 1668378.56it/s]\u001b[A\u001b[A\u001b[A\n",
      "\n",
      "\n",
      " 46%|████▌     | 6430720/14028800 [00:01<00:03, 2224952.04it/s]\u001b[A\u001b[A\u001b[A\n",
      "\n",
      "\n",
      " 56%|█████▌    | 7790592/14028800 [00:01<00:02, 2939008.46it/s]\u001b[A\u001b[A\u001b[A\n",
      "\n",
      "\n",
      " 65%|██████▌   | 9183232/14028800 [00:01<00:01, 3748528.30it/s]\u001b[A\u001b[A\u001b[A\n",
      "\n",
      "\n",
      " 75%|███████▌  | 10584064/14028800 [00:01<00:00, 4648405.68it/s]\u001b[A\u001b[A\u001b[A\n",
      "\n",
      "\n",
      " 86%|████████▌ | 12025856/14028800 [00:01<00:00, 5610783.91it/s]\u001b[A\u001b[A\u001b[A\n",
      "\n",
      "\n",
      " 96%|█████████▌| 13484032/14028800 [00:01<00:00, 6576863.01it/s]\u001b[A\u001b[A\u001b[A\n",
      "\n",
      "\n",
      "14032896it [00:01, 7739311.72it/s]                              \u001b[A\u001b[A\u001b[A"
     ]
    },
    {
     "name": "stdout",
     "output_type": "stream",
     "text": [
      "Extracting /mnt/iscsi/data/Jay/datasets/caltech101/101_Annotations.tar to /mnt/iscsi/data/Jay/datasets/caltech101\n"
     ]
    },
    {
     "name": "stderr",
     "output_type": "stream",
     "text": [
      "\n",
      "\n",
      "131743744it [00:24, 15710009.46it/s]                               \u001b[A\u001b[A"
     ]
    }
   ],
   "source": [
    "test_dataloader =  data.DataLoader(datasets.Caltech101('/mnt/iscsi/data/Jay/datasets/', download=True),)\n",
    "            #batch_size=128, drop_last=False)\n",
    "        "
   ]
  },
  {
   "cell_type": "code",
   "execution_count": 49,
   "metadata": {},
   "outputs": [
    {
     "data": {
      "text/plain": [
       "240"
      ]
     },
     "execution_count": 49,
     "metadata": {},
     "output_type": "execute_result"
    }
   ],
   "source": [
    "len(test_dataloader)"
   ]
  },
  {
   "cell_type": "code",
   "execution_count": 51,
   "metadata": {},
   "outputs": [
    {
     "data": {
      "text/plain": [
       "30720"
      ]
     },
     "execution_count": 51,
     "metadata": {},
     "output_type": "execute_result"
    }
   ],
   "source": [
    "240*128"
   ]
  },
  {
   "cell_type": "code",
   "execution_count": 1,
   "metadata": {},
   "outputs": [],
   "source": [
    "from custom_datasets import *\n",
    "def imagenet_transformer():\n",
    "    transform=transforms.Compose([\n",
    "        transforms.RandomResizedCrop(224),\n",
    "        transforms.RandomHorizontalFlip(),\n",
    "        transforms.ToTensor(),\n",
    "#         transforms.Normalize(mean=[0.485, 0.456, 0.406],\n",
    "#                              std=[0.229, 0.224, 0.225])\n",
    "    ])"
   ]
  },
  {
   "cell_type": "code",
   "execution_count": 86,
   "metadata": {},
   "outputs": [],
   "source": [
    "# test_dataloader =  data.DataLoader(datasets.Caltech256('/mnt/iscsi/data/Jay/datasets/caltech256/', download=True,transform=imagenet_transformer()),\n",
    "#             batch_size=128, drop_last=False)\n",
    "from torchvision import datasets, transforms\n",
    "import torch.utils.data as data\n",
    "class Caltech2556(Dataset):\n",
    "    def __init__(self, path):\n",
    "        self.caltech256 =  datasets.ImageFolder(root=path,transform=transforms.Compose([\n",
    "            transforms.Resize(256),\n",
    "            transforms.CenterCrop(224),\n",
    "            transforms.ToTensor(),\n",
    "        ]))\n",
    "\n",
    "    def __getitem__(self, index):\n",
    "        if isinstance(index, numpy.float64):\n",
    "            index = index.astype(numpy.int64)\n",
    "        data, target = self.caltech256[index]\n",
    "\n",
    "        return data, target, index\n",
    "\n",
    "    def __len__(self):\n",
    "        return len(self.caltech256)\n",
    "    \n",
    "train_dataset = Caltech2556('/mnt/iscsi/data/Jay/datasets/caltech256/caltech256/train/')"
   ]
  },
  {
   "cell_type": "code",
   "execution_count": 87,
   "metadata": {},
   "outputs": [
    {
     "data": {
      "text/plain": [
       "['001.ak47',\n",
       " '002.american-flag',\n",
       " '003.backpack',\n",
       " '004.baseball-bat',\n",
       " '005.baseball-glove',\n",
       " '006.basketball-hoop',\n",
       " '007.bat',\n",
       " '008.bathtub',\n",
       " '009.bear',\n",
       " '010.beer-mug',\n",
       " '011.billiards',\n",
       " '012.binoculars',\n",
       " '013.birdbath',\n",
       " '014.blimp',\n",
       " '015.bonsai-101',\n",
       " '016.boom-box',\n",
       " '017.bowling-ball',\n",
       " '018.bowling-pin',\n",
       " '019.boxing-glove',\n",
       " '020.brain-101',\n",
       " '021.breadmaker',\n",
       " '022.buddha-101',\n",
       " '023.bulldozer',\n",
       " '024.butterfly',\n",
       " '025.cactus',\n",
       " '026.cake',\n",
       " '027.calculator',\n",
       " '028.camel',\n",
       " '029.cannon',\n",
       " '030.canoe',\n",
       " '031.car-tire',\n",
       " '032.cartman',\n",
       " '033.cd',\n",
       " '034.centipede',\n",
       " '035.cereal-box',\n",
       " '036.chandelier-101',\n",
       " '037.chess-board',\n",
       " '038.chimp',\n",
       " '039.chopsticks',\n",
       " '040.cockroach',\n",
       " '041.coffee-mug',\n",
       " '042.coffin',\n",
       " '043.coin',\n",
       " '044.comet',\n",
       " '045.computer-keyboard',\n",
       " '046.computer-monitor',\n",
       " '047.computer-mouse',\n",
       " '048.conch',\n",
       " '049.cormorant',\n",
       " '050.covered-wagon',\n",
       " '051.cowboy-hat',\n",
       " '052.crab-101',\n",
       " '053.desk-globe',\n",
       " '054.diamond-ring',\n",
       " '055.dice',\n",
       " '056.dog',\n",
       " '057.dolphin-101',\n",
       " '058.doorknob',\n",
       " '059.drinking-straw',\n",
       " '060.duck',\n",
       " '061.dumb-bell',\n",
       " '062.eiffel-tower',\n",
       " '063.electric-guitar-101',\n",
       " '064.elephant-101',\n",
       " '065.elk',\n",
       " '066.ewer-101',\n",
       " '067.eyeglasses',\n",
       " '068.fern',\n",
       " '069.fighter-jet',\n",
       " '070.fire-extinguisher',\n",
       " '071.fire-hydrant',\n",
       " '072.fire-truck',\n",
       " '073.fireworks',\n",
       " '074.flashlight',\n",
       " '075.floppy-disk',\n",
       " '076.football-helmet',\n",
       " '077.french-horn',\n",
       " '078.fried-egg',\n",
       " '079.frisbee',\n",
       " '080.frog',\n",
       " '081.frying-pan',\n",
       " '082.galaxy',\n",
       " '083.gas-pump',\n",
       " '084.giraffe',\n",
       " '085.goat',\n",
       " '086.golden-gate-bridge',\n",
       " '087.goldfish',\n",
       " '088.golf-ball',\n",
       " '089.goose',\n",
       " '090.gorilla',\n",
       " '091.grand-piano-101',\n",
       " '092.grapes',\n",
       " '093.grasshopper',\n",
       " '094.guitar-pick',\n",
       " '095.hamburger',\n",
       " '096.hammock',\n",
       " '097.harmonica',\n",
       " '098.harp',\n",
       " '099.harpsichord',\n",
       " '100.hawksbill-101',\n",
       " '101.head-phones',\n",
       " '102.helicopter-101',\n",
       " '103.hibiscus',\n",
       " '104.homer-simpson',\n",
       " '105.horse',\n",
       " '106.horseshoe-crab',\n",
       " '107.hot-air-balloon',\n",
       " '108.hot-dog',\n",
       " '109.hot-tub',\n",
       " '110.hourglass',\n",
       " '111.house-fly',\n",
       " '112.human-skeleton',\n",
       " '113.hummingbird',\n",
       " '114.ibis-101',\n",
       " '115.ice-cream-cone',\n",
       " '116.iguana',\n",
       " '117.ipod',\n",
       " '118.iris',\n",
       " '119.jesus-christ',\n",
       " '120.joy-stick',\n",
       " '121.kangaroo-101',\n",
       " '122.kayak',\n",
       " '123.ketch-101',\n",
       " '124.killer-whale',\n",
       " '125.knife',\n",
       " '126.ladder',\n",
       " '127.laptop-101',\n",
       " '128.lathe',\n",
       " '129.leopards-101',\n",
       " '130.license-plate',\n",
       " '131.lightbulb',\n",
       " '132.light-house',\n",
       " '133.lightning',\n",
       " '134.llama-101',\n",
       " '135.mailbox',\n",
       " '136.mandolin',\n",
       " '137.mars',\n",
       " '138.mattress',\n",
       " '139.megaphone',\n",
       " '140.menorah-101',\n",
       " '141.microscope',\n",
       " '142.microwave',\n",
       " '143.minaret',\n",
       " '144.minotaur',\n",
       " '145.motorbikes-101',\n",
       " '146.mountain-bike',\n",
       " '147.mushroom',\n",
       " '148.mussels',\n",
       " '149.necktie',\n",
       " '150.octopus',\n",
       " '151.ostrich',\n",
       " '152.owl',\n",
       " '153.palm-pilot',\n",
       " '154.palm-tree',\n",
       " '155.paperclip',\n",
       " '156.paper-shredder',\n",
       " '157.pci-card',\n",
       " '158.penguin',\n",
       " '159.people',\n",
       " '160.pez-dispenser',\n",
       " '161.photocopier',\n",
       " '162.picnic-table',\n",
       " '163.playing-card',\n",
       " '164.porcupine',\n",
       " '165.pram',\n",
       " '166.praying-mantis',\n",
       " '167.pyramid',\n",
       " '168.raccoon',\n",
       " '169.radio-telescope',\n",
       " '170.rainbow',\n",
       " '171.refrigerator',\n",
       " '172.revolver-101',\n",
       " '173.rifle',\n",
       " '174.rotary-phone',\n",
       " '175.roulette-wheel',\n",
       " '176.saddle',\n",
       " '177.saturn',\n",
       " '178.school-bus',\n",
       " '179.scorpion-101',\n",
       " '180.screwdriver',\n",
       " '181.segway',\n",
       " '182.self-propelled-lawn-mower',\n",
       " '183.sextant',\n",
       " '184.sheet-music',\n",
       " '185.skateboard',\n",
       " '186.skunk',\n",
       " '187.skyscraper',\n",
       " '188.smokestack',\n",
       " '189.snail',\n",
       " '190.snake',\n",
       " '191.sneaker',\n",
       " '192.snowmobile',\n",
       " '193.soccer-ball',\n",
       " '194.socks',\n",
       " '195.soda-can',\n",
       " '196.spaghetti',\n",
       " '197.speed-boat',\n",
       " '198.spider',\n",
       " '199.spoon',\n",
       " '200.stained-glass',\n",
       " '201.starfish-101',\n",
       " '202.steering-wheel',\n",
       " '203.stirrups',\n",
       " '204.sunflower-101',\n",
       " '205.superman',\n",
       " '206.sushi',\n",
       " '207.swan',\n",
       " '208.swiss-army-knife',\n",
       " '209.sword',\n",
       " '210.syringe',\n",
       " '211.tambourine',\n",
       " '212.teapot',\n",
       " '213.teddy-bear',\n",
       " '214.teepee',\n",
       " '215.telephone-box',\n",
       " '216.tennis-ball',\n",
       " '217.tennis-court',\n",
       " '218.tennis-racket',\n",
       " '219.theodolite',\n",
       " '220.toaster',\n",
       " '221.tomato',\n",
       " '222.tombstone',\n",
       " '223.top-hat',\n",
       " '224.touring-bike',\n",
       " '225.tower-pisa',\n",
       " '226.traffic-light',\n",
       " '227.treadmill',\n",
       " '228.triceratops',\n",
       " '229.tricycle',\n",
       " '230.trilobite-101',\n",
       " '231.tripod',\n",
       " '232.t-shirt',\n",
       " '233.tuning-fork',\n",
       " '234.tweezer',\n",
       " '235.umbrella-101',\n",
       " '236.unicorn',\n",
       " '237.vcr',\n",
       " '238.video-projector',\n",
       " '239.washing-machine',\n",
       " '240.watch-101',\n",
       " '241.waterfall',\n",
       " '242.watermelon',\n",
       " '243.welding-mask',\n",
       " '244.wheelbarrow',\n",
       " '245.windmill',\n",
       " '246.wine-bottle',\n",
       " '247.xylophone',\n",
       " '248.yarmulke',\n",
       " '249.yo-yo',\n",
       " '250.zebra',\n",
       " '251.airplanes-101',\n",
       " '252.car-side-101',\n",
       " '253.faces-easy-101',\n",
       " '254.greyhound',\n",
       " '255.tennis-shoes',\n",
       " '256.toad']"
      ]
     },
     "execution_count": 87,
     "metadata": {},
     "output_type": "execute_result"
    }
   ],
   "source": [
    "train_dataset.caltech256.classes"
   ]
  },
  {
   "cell_type": "code",
   "execution_count": 88,
   "metadata": {},
   "outputs": [
    {
     "data": {
      "text/plain": [
       "29780"
      ]
     },
     "execution_count": 88,
     "metadata": {},
     "output_type": "execute_result"
    }
   ],
   "source": [
    "len(train_dataset)"
   ]
  },
  {
   "cell_type": "code",
   "execution_count": 91,
   "metadata": {},
   "outputs": [
    {
     "name": "stdout",
     "output_type": "stream",
     "text": [
      "0 torch.Size([3, 224, 224]) 0 0\n"
     ]
    },
    {
     "ename": "NameError",
     "evalue": "name 'sys' is not defined",
     "output_type": "error",
     "traceback": [
      "\u001b[0;31m---------------------------------------------------------------------------\u001b[0m",
      "\u001b[0;31mNameError\u001b[0m                                 Traceback (most recent call last)",
      "\u001b[0;32m<ipython-input-91-77d4d27ee95f>\u001b[0m in \u001b[0;36m<module>\u001b[0;34m()\u001b[0m\n\u001b[1;32m      2\u001b[0m     \u001b[0;31m#if i%10==0:print(i,images.shape,target,_)\u001b[0m\u001b[0;34m\u001b[0m\u001b[0;34m\u001b[0m\u001b[0;34m\u001b[0m\u001b[0m\n\u001b[1;32m      3\u001b[0m     \u001b[0mprint\u001b[0m\u001b[0;34m(\u001b[0m\u001b[0mi\u001b[0m\u001b[0;34m,\u001b[0m\u001b[0mimages\u001b[0m\u001b[0;34m.\u001b[0m\u001b[0mshape\u001b[0m\u001b[0;34m,\u001b[0m\u001b[0mtarget\u001b[0m\u001b[0;34m,\u001b[0m\u001b[0m_\u001b[0m\u001b[0;34m)\u001b[0m\u001b[0;34m\u001b[0m\u001b[0;34m\u001b[0m\u001b[0m\n\u001b[0;32m----> 4\u001b[0;31m     \u001b[0msys\u001b[0m\u001b[0;34m.\u001b[0m\u001b[0mexit\u001b[0m\u001b[0;34m(\u001b[0m\u001b[0;34m)\u001b[0m\u001b[0;34m\u001b[0m\u001b[0;34m\u001b[0m\u001b[0m\n\u001b[0m",
      "\u001b[0;31mNameError\u001b[0m: name 'sys' is not defined"
     ]
    }
   ],
   "source": [
    "for i, (images, target,_) in enumerate(train_dataset):\n",
    "    #if i%10==0:print(i,images.shape,target,_)\n",
    "    print(i,images.shape,target,_)\n",
    "    sys.exit()"
   ]
  },
  {
   "cell_type": "code",
   "execution_count": null,
   "metadata": {},
   "outputs": [],
   "source": [
    "num_val = 128120\n",
    "num_images = 30607\n",
    "budget = 64060\n",
    "initial_budget = 3000\n",
    "num_classes = 257"
   ]
  },
  {
   "cell_type": "code",
   "execution_count": 64,
   "metadata": {},
   "outputs": [],
   "source": [
    "data_path='/mnt/iscsi/data/Jay/datasets/cifar10'"
   ]
  },
  {
   "cell_type": "code",
   "execution_count": 85,
   "metadata": {},
   "outputs": [
    {
     "ename": "NameError",
     "evalue": "name 'data_path' is not defined",
     "output_type": "error",
     "traceback": [
      "\u001b[0;31m---------------------------------------------------------------------------\u001b[0m",
      "\u001b[0;31mNameError\u001b[0m                                 Traceback (most recent call last)",
      "\u001b[0;32m<ipython-input-85-fc3a08268159>\u001b[0m in \u001b[0;36m<module>\u001b[0;34m()\u001b[0m\n\u001b[1;32m      1\u001b[0m test_dataloader = data.DataLoader(\n\u001b[0;32m----> 2\u001b[0;31m                 \u001b[0mdatasets\u001b[0m\u001b[0;34m.\u001b[0m\u001b[0mCIFAR10\u001b[0m\u001b[0;34m(\u001b[0m\u001b[0mdata_path\u001b[0m\u001b[0;34m,\u001b[0m \u001b[0mdownload\u001b[0m\u001b[0;34m=\u001b[0m\u001b[0;32mTrue\u001b[0m\u001b[0;34m,\u001b[0m \u001b[0mtrain\u001b[0m\u001b[0;34m=\u001b[0m\u001b[0;32mFalse\u001b[0m\u001b[0;34m)\u001b[0m\u001b[0;34m,\u001b[0m\u001b[0;34m\u001b[0m\u001b[0;34m\u001b[0m\u001b[0m\n\u001b[0m\u001b[1;32m      3\u001b[0m             batch_size=128, drop_last=False)\n\u001b[1;32m      4\u001b[0m \u001b[0mtrain_dataset\u001b[0m \u001b[0;34m=\u001b[0m \u001b[0mCIFAR10\u001b[0m\u001b[0;34m(\u001b[0m\u001b[0mdata_path\u001b[0m\u001b[0;34m)\u001b[0m\u001b[0;34m\u001b[0m\u001b[0;34m\u001b[0m\u001b[0m\n",
      "\u001b[0;31mNameError\u001b[0m: name 'data_path' is not defined"
     ]
    }
   ],
   "source": [
    "test_dataloader = data.DataLoader(\n",
    "                datasets.CIFAR10(data_path, download=True, train=False),\n",
    "            batch_size=128, drop_last=False)\n",
    "train_dataset = CIFAR10(data_path)"
   ]
  },
  {
   "cell_type": "code",
   "execution_count": 68,
   "metadata": {},
   "outputs": [
    {
     "data": {
      "text/plain": [
       "50000"
      ]
     },
     "execution_count": 68,
     "metadata": {},
     "output_type": "execute_result"
    }
   ],
   "source": [
    "len(train_dataset)"
   ]
  },
  {
   "cell_type": "code",
   "execution_count": 28,
   "metadata": {},
   "outputs": [
    {
     "data": {
      "text/plain": [
       "{}"
      ]
     },
     "execution_count": 28,
     "metadata": {},
     "output_type": "execute_result"
    }
   ],
   "source": [
    "from easydict import EasyDict\n",
    "args = EasyDict()\n",
    "args"
   ]
  },
  {
   "cell_type": "code",
   "execution_count": 37,
   "metadata": {},
   "outputs": [],
   "source": [
    "args.num_val = 2700\n",
    "args.num_images = 27607\n",
    "args.budget = 1530\n",
    "args.initial_budget = 3060\n",
    "args.num_classes = 256\n",
    "args.test=3000"
   ]
  },
  {
   "cell_type": "code",
   "execution_count": 38,
   "metadata": {},
   "outputs": [
    {
     "data": {
      "text/plain": [
       "{'budget': 1530,\n",
       " 'initial_budget': 3060,\n",
       " 'num_classes': 256,\n",
       " 'num_images': 27607,\n",
       " 'num_val': 2700,\n",
       " 'test': 3000}"
      ]
     },
     "execution_count": 38,
     "metadata": {},
     "output_type": "execute_result"
    }
   ],
   "source": [
    "args"
   ]
  },
  {
   "cell_type": "code",
   "execution_count": 39,
   "metadata": {},
   "outputs": [],
   "source": [
    "import numpy as np\n",
    "import random\n",
    "all_indices = set(np.arange(args.num_images))\n",
    "val_indices = random.sample(all_indices, args.num_val)\n",
    "all_indices = np.setdiff1d(list(all_indices), val_indices)\n",
    "initial_indices = random.sample(list(all_indices), args.initial_budget)\n",
    "sampler = data.sampler.SubsetRandomSampler(initial_indices)\n",
    "val_sampler = data.sampler.SubsetRandomSampler(val_indices)"
   ]
  },
  {
   "cell_type": "code",
   "execution_count": 40,
   "metadata": {},
   "outputs": [
    {
     "data": {
      "text/plain": [
       "2700"
      ]
     },
     "execution_count": 40,
     "metadata": {},
     "output_type": "execute_result"
    }
   ],
   "source": [
    "len(val_indices)"
   ]
  },
  {
   "cell_type": "code",
   "execution_count": 67,
   "metadata": {},
   "outputs": [],
   "source": [
    "import torch\n",
    "a=torch.Tensor(2,64,256)"
   ]
  },
  {
   "cell_type": "code",
   "execution_count": 68,
   "metadata": {},
   "outputs": [
    {
     "data": {
      "text/plain": [
       "tensor([[[3.2678e-41, 0.0000e+00, 3.2680e-41,  ..., 0.0000e+00,\n",
       "          3.2856e-41, 0.0000e+00],\n",
       "         [3.2858e-41, 0.0000e+00, 3.2859e-41,  ..., 0.0000e+00,\n",
       "          3.3036e-41, 0.0000e+00],\n",
       "         [3.3037e-41, 0.0000e+00, 3.3038e-41,  ..., 0.0000e+00,\n",
       "          3.3215e-41, 0.0000e+00],\n",
       "         ...,\n",
       "         [4.9326e-42, 0.0000e+00, 4.9340e-42,  ..., 0.0000e+00,\n",
       "          5.1105e-42, 0.0000e+00],\n",
       "         [5.1119e-42, 0.0000e+00, 5.1133e-42,  ..., 0.0000e+00,\n",
       "          5.2899e-42, 0.0000e+00],\n",
       "         [5.2913e-42, 0.0000e+00, 5.2927e-42,  ..., 0.0000e+00,\n",
       "          5.4693e-42, 0.0000e+00]],\n",
       "\n",
       "        [[5.4707e-42, 0.0000e+00, 5.4721e-42,  ..., 0.0000e+00,\n",
       "          5.6486e-42, 0.0000e+00],\n",
       "         [5.6500e-42, 0.0000e+00, 5.6514e-42,  ..., 0.0000e+00,\n",
       "          5.8280e-42, 0.0000e+00],\n",
       "         [5.8294e-42, 0.0000e+00, 5.8308e-42,  ..., 0.0000e+00,\n",
       "          6.0074e-42, 0.0000e+00],\n",
       "         ...,\n",
       "         [1.6412e-41, 0.0000e+00, 1.6413e-41,  ..., 0.0000e+00,\n",
       "          1.6590e-41, 0.0000e+00],\n",
       "         [1.6591e-41, 0.0000e+00, 1.6593e-41,  ..., 0.0000e+00,\n",
       "          1.6769e-41, 0.0000e+00],\n",
       "         [1.6771e-41, 0.0000e+00, 1.6772e-41,  ..., 0.0000e+00,\n",
       "          1.6949e-41, 0.0000e+00]]])"
      ]
     },
     "execution_count": 68,
     "metadata": {},
     "output_type": "execute_result"
    }
   ],
   "source": [
    "a"
   ]
  },
  {
   "cell_type": "code",
   "execution_count": 72,
   "metadata": {},
   "outputs": [
    {
     "data": {
      "text/plain": [
       "tensor([[[3.2678e-41, 0.0000e+00, 3.2680e-41,  ..., 0.0000e+00,\n",
       "          3.2856e-41, 0.0000e+00],\n",
       "         [3.2858e-41, 0.0000e+00, 3.2859e-41,  ..., 0.0000e+00,\n",
       "          3.3036e-41, 0.0000e+00],\n",
       "         [3.3037e-41, 0.0000e+00, 3.3038e-41,  ..., 0.0000e+00,\n",
       "          3.3215e-41, 0.0000e+00],\n",
       "         ...,\n",
       "         [1.6412e-41, 0.0000e+00, 1.6413e-41,  ..., 0.0000e+00,\n",
       "          1.6590e-41, 0.0000e+00],\n",
       "         [1.6591e-41, 0.0000e+00, 1.6593e-41,  ..., 0.0000e+00,\n",
       "          1.6769e-41, 0.0000e+00],\n",
       "         [1.6771e-41, 0.0000e+00, 1.6772e-41,  ..., 0.0000e+00,\n",
       "          1.6949e-41, 0.0000e+00]]])"
      ]
     },
     "execution_count": 72,
     "metadata": {},
     "output_type": "execute_result"
    }
   ],
   "source": [
    "z"
   ]
  },
  {
   "cell_type": "code",
   "execution_count": 62,
   "metadata": {},
   "outputs": [],
   "source": [
    "c=torch.Tensor(1,128,256)"
   ]
  },
  {
   "cell_type": "code",
   "execution_count": 63,
   "metadata": {},
   "outputs": [],
   "source": [
    "b=torch.cat((a[0], a[1]))"
   ]
  },
  {
   "cell_type": "code",
   "execution_count": 71,
   "metadata": {},
   "outputs": [],
   "source": [
    "z=a.view_as(c)"
   ]
  },
  {
   "cell_type": "code",
   "execution_count": 65,
   "metadata": {},
   "outputs": [
    {
     "data": {
      "text/plain": [
       "torch.Size([128, 256])"
      ]
     },
     "execution_count": 65,
     "metadata": {},
     "output_type": "execute_result"
    }
   ],
   "source": [
    "b.shape"
   ]
  },
  {
   "cell_type": "code",
   "execution_count": 74,
   "metadata": {},
   "outputs": [],
   "source": [
    "import pickle\n",
    "with open ('output_samples_', 'rb') as fp:output_samples_ = pickle.load(fp)"
   ]
  },
  {
   "cell_type": "code",
   "execution_count": 84,
   "metadata": {},
   "outputs": [
    {
     "data": {
      "text/plain": [
       "256"
      ]
     },
     "execution_count": 84,
     "metadata": {},
     "output_type": "execute_result"
    }
   ],
   "source": [
    "len(output_samples_[0][0])"
   ]
  },
  {
   "cell_type": "code",
   "execution_count": 78,
   "metadata": {},
   "outputs": [],
   "source": [
    "with open ('target', 'rb') as fp:target = pickle.load(fp)"
   ]
  },
  {
   "cell_type": "code",
   "execution_count": 79,
   "metadata": {},
   "outputs": [
    {
     "data": {
      "text/plain": [
       "tensor([ 82, 256, 229,  47, 190,  68, 239,  54,  18,  12, 112, 176,   1, 125,\n",
       "          4, 199, 141, 202, 224, 256, 250,   3, 171, 223,  50, 147,  80, 180,\n",
       "        190,  43, 109,   9, 252, 104,  28,  69,  73, 207,  57,  69, 202, 116,\n",
       "         57, 256, 229,  10, 211,  41,  44, 215,  91, 106,  43, 152, 223, 236,\n",
       "        189, 240, 148,  93, 118,  21, 232, 241, 242, 231, 163, 142, 252,  24,\n",
       "         89, 139, 144, 157,  97, 185, 142, 159, 209, 156, 190, 124,  91, 113,\n",
       "        104, 239, 153,  63,  86,  97,  37,  33,  33,   1,  60, 151,  94, 254,\n",
       "         29, 245,  82, 195, 256,  52,  38,  76, 253, 171, 144, 117, 213, 109,\n",
       "        126, 213, 162, 155, 215, 178, 104,  86, 243,  27,  22,  76, 123, 180,\n",
       "         49, 243], device='cuda:0')"
      ]
     },
     "execution_count": 79,
     "metadata": {},
     "output_type": "execute_result"
    }
   ],
   "source": [
    "target"
   ]
  },
  {
   "cell_type": "code",
   "execution_count": 92,
   "metadata": {},
   "outputs": [],
   "source": [
    "import torch.utils.data as data\n"
   ]
  },
  {
   "cell_type": "code",
   "execution_count": null,
   "metadata": {},
   "outputs": [],
   "source": [
    "data.DataLoader(train_dataset, sampler=val_sampler_set1,batch_size=args.batch_size, drop_last=False)"
   ]
  },
  {
   "cell_type": "code",
   "execution_count": 124,
   "metadata": {},
   "outputs": [],
   "source": [
    "import split_folders\n"
   ]
  },
  {
   "cell_type": "code",
   "execution_count": 131,
   "metadata": {},
   "outputs": [
    {
     "name": "stderr",
     "output_type": "stream",
     "text": [
      "\n",
      "\n",
      "\n",
      "Copying files: 0 files [00:00, ? files/s]\u001b[A\u001b[A\u001b[A\n",
      "\n",
      "\n",
      "Copying files: 746 files [00:00, 7458.73 files/s]\u001b[A\u001b[A\u001b[A\n",
      "\n",
      "\n",
      "Copying files: 1462 files [00:00, 7287.41 files/s]\u001b[A\u001b[A\u001b[A\n",
      "\n",
      "\n",
      "Copying files: 2206 files [00:00, 7332.49 files/s]\u001b[A\u001b[A\u001b[A\n",
      "\n",
      "\n",
      "Copying files: 2981 files [00:00, 7450.95 files/s]\u001b[A\u001b[A\u001b[A\n",
      "\n",
      "\n",
      "Copying files: 3944 files [00:00, 7993.12 files/s]\u001b[A\u001b[A\u001b[A\n",
      "\n",
      "\n",
      "Copying files: 4972 files [00:00, 8563.24 files/s]\u001b[A\u001b[A\u001b[A\n",
      "\n",
      "\n",
      "Copying files: 6113 files [00:00, 9255.82 files/s]\u001b[A\u001b[A\u001b[A\n",
      "\n",
      "\n",
      "Copying files: 7097 files [00:00, 9422.99 files/s]\u001b[A\u001b[A\u001b[A\n",
      "\n",
      "\n",
      "Copying files: 8018 files [00:00, 8773.81 files/s]\u001b[A\u001b[A\u001b[A\n",
      "\n",
      "\n",
      "Copying files: 8890 files [00:01, 8329.05 files/s]\u001b[A\u001b[A\u001b[A\n",
      "\n",
      "\n",
      "Copying files: 9145 files [00:01, 8487.47 files/s]\u001b[A\u001b[A\u001b[A"
     ]
    }
   ],
   "source": [
    "# Split with a ratio.\n",
    "# To only split into training and validation set, set a tuple to `ratio`, i.e, `(.8, .2)`.\n",
    "split_folders.ratio('/mnt/iscsi/data/Jay/datasets/caltech101/101_ObjectCategories/',\n",
    "                    output=\"/mnt/iscsi/data/Jay/datasets/caltech101/output1/\", seed=1337, ratio=(.75, .25)) # default values\n"
   ]
  },
  {
   "cell_type": "code",
   "execution_count": 99,
   "metadata": {},
   "outputs": [],
   "source": [
    "test_loader=data.DataLoader(datasets.ImageFolder('/mnt/iscsi/data/Jay/datasets/caltech256/caltech256/output/test/', transform=imagenet_transformer()),\n",
    "            drop_last=False, batch_size=16)"
   ]
  },
  {
   "cell_type": "code",
   "execution_count": 101,
   "metadata": {},
   "outputs": [
    {
     "data": {
      "text/plain": [
       "3104"
      ]
     },
     "execution_count": 101,
     "metadata": {},
     "output_type": "execute_result"
    }
   ],
   "source": [
    "len(test_loader)*16"
   ]
  },
  {
   "cell_type": "code",
   "execution_count": 104,
   "metadata": {},
   "outputs": [],
   "source": [
    "train_dataset = Caltech256('/mnt/iscsi/data/Jay/datasets/caltech256/caltech256/output/train/')"
   ]
  },
  {
   "cell_type": "code",
   "execution_count": 105,
   "metadata": {},
   "outputs": [
    {
     "data": {
      "text/plain": [
       "26683"
      ]
     },
     "execution_count": 105,
     "metadata": {},
     "output_type": "execute_result"
    }
   ],
   "source": [
    "len(train_dataset)"
   ]
  },
  {
   "cell_type": "code",
   "execution_count": 141,
   "metadata": {},
   "outputs": [],
   "source": [
    "datadir = '/mnt/iscsi/data/Jay/datasets/caltech101/output1/'\n",
    "traindir = datadir + 'train/'\n",
    "testdir = datadir + 'test/'"
   ]
  },
  {
   "cell_type": "code",
   "execution_count": 137,
   "metadata": {},
   "outputs": [],
   "source": [
    "import pandas as pd\n",
    "import os\n",
    "from PIL import Image\n",
    "# Visualizations\n",
    "import matplotlib.pyplot as plt\n",
    "%matplotlib inline\n"
   ]
  },
  {
   "cell_type": "code",
   "execution_count": 142,
   "metadata": {},
   "outputs": [],
   "source": [
    "# Empty lists\n",
    "categories = []\n",
    "img_categories = []\n",
    "n_train = []\n",
    "n_valid = []\n",
    "n_test = []\n",
    "hs = []\n",
    "ws = []\n",
    "\n",
    "# Iterate through each category\n",
    "for d in os.listdir(traindir):\n",
    "    categories.append(d)\n",
    "\n",
    "    # Number of each image\n",
    "    train_imgs = os.listdir(traindir + d)\n",
    "    test_imgs = os.listdir(testdir + d)\n",
    "    n_train.append(len(train_imgs))\n",
    "    n_test.append(len(test_imgs))\n",
    "\n",
    "    # Find stats for train images\n",
    "    for i in train_imgs:\n",
    "        img_categories.append(d)\n",
    "        img = Image.open(traindir + d + '/' + i)\n",
    "        img_array = np.array(img)\n",
    "        # Shape\n",
    "        hs.append(img_array.shape[0])\n",
    "        ws.append(img_array.shape[1])\n",
    "\n"
   ]
  },
  {
   "cell_type": "code",
   "execution_count": 150,
   "metadata": {},
   "outputs": [
    {
     "data": {
      "text/plain": [
       "6822"
      ]
     },
     "execution_count": 150,
     "metadata": {},
     "output_type": "execute_result"
    }
   ],
   "source": [
    "s=0\n",
    "for i in n_train:\n",
    "    s=s+i\n",
    "s"
   ]
  },
  {
   "cell_type": "code",
   "execution_count": 151,
   "metadata": {},
   "outputs": [
    {
     "data": {
      "text/plain": [
       "9145"
      ]
     },
     "execution_count": 151,
     "metadata": {},
     "output_type": "execute_result"
    }
   ],
   "source": [
    "6822+2323"
   ]
  },
  {
   "cell_type": "code",
   "execution_count": 143,
   "metadata": {},
   "outputs": [
    {
     "data": {
      "text/html": [
       "<div>\n",
       "<style scoped>\n",
       "    .dataframe tbody tr th:only-of-type {\n",
       "        vertical-align: middle;\n",
       "    }\n",
       "\n",
       "    .dataframe tbody tr th {\n",
       "        vertical-align: top;\n",
       "    }\n",
       "\n",
       "    .dataframe thead th {\n",
       "        text-align: right;\n",
       "    }\n",
       "</style>\n",
       "<table border=\"1\" class=\"dataframe\">\n",
       "  <thead>\n",
       "    <tr style=\"text-align: right;\">\n",
       "      <th></th>\n",
       "      <th>category</th>\n",
       "      <th>n_train</th>\n",
       "      <th>n_test</th>\n",
       "    </tr>\n",
       "  </thead>\n",
       "  <tbody>\n",
       "    <tr>\n",
       "      <th>95</th>\n",
       "      <td>wild_cat</td>\n",
       "      <td>25</td>\n",
       "      <td>9</td>\n",
       "    </tr>\n",
       "    <tr>\n",
       "      <th>23</th>\n",
       "      <td>platypus</td>\n",
       "      <td>25</td>\n",
       "      <td>9</td>\n",
       "    </tr>\n",
       "    <tr>\n",
       "      <th>61</th>\n",
       "      <td>binocular</td>\n",
       "      <td>24</td>\n",
       "      <td>9</td>\n",
       "    </tr>\n",
       "    <tr>\n",
       "      <th>12</th>\n",
       "      <td>metronome</td>\n",
       "      <td>24</td>\n",
       "      <td>8</td>\n",
       "    </tr>\n",
       "    <tr>\n",
       "      <th>69</th>\n",
       "      <td>inline_skate</td>\n",
       "      <td>23</td>\n",
       "      <td>8</td>\n",
       "    </tr>\n",
       "  </tbody>\n",
       "</table>\n",
       "</div>"
      ],
      "text/plain": [
       "        category  n_train  n_test\n",
       "95      wild_cat       25       9\n",
       "23      platypus       25       9\n",
       "61     binocular       24       9\n",
       "12     metronome       24       8\n",
       "69  inline_skate       23       8"
      ]
     },
     "execution_count": 143,
     "metadata": {},
     "output_type": "execute_result"
    }
   ],
   "source": [
    "# Dataframe of categories\n",
    "cat_df = pd.DataFrame({'category': categories,\n",
    "                       'n_train': n_train,\n",
    "                        'n_test': n_test}).\\\n",
    "    sort_values('category')\n",
    "\n",
    "# Dataframe of training images\n",
    "image_df = pd.DataFrame({\n",
    "    'category': img_categories,\n",
    "    'height': hs,\n",
    "    'width': ws\n",
    "})\n",
    "\n",
    "cat_df.sort_values('n_train', ascending=False, inplace=True)\n",
    "cat_df.head()\n",
    "cat_df.tail()"
   ]
  },
  {
   "cell_type": "code",
   "execution_count": 144,
   "metadata": {
    "scrolled": true
   },
   "outputs": [
    {
     "data": {
      "text/html": [
       "<div>\n",
       "<style scoped>\n",
       "    .dataframe tbody tr th:only-of-type {\n",
       "        vertical-align: middle;\n",
       "    }\n",
       "\n",
       "    .dataframe tbody tr th {\n",
       "        vertical-align: top;\n",
       "    }\n",
       "\n",
       "    .dataframe thead th {\n",
       "        text-align: right;\n",
       "    }\n",
       "</style>\n",
       "<table border=\"1\" class=\"dataframe\">\n",
       "  <thead>\n",
       "    <tr style=\"text-align: right;\">\n",
       "      <th></th>\n",
       "      <th>category</th>\n",
       "      <th>n_train</th>\n",
       "      <th>n_test</th>\n",
       "    </tr>\n",
       "  </thead>\n",
       "  <tbody>\n",
       "    <tr>\n",
       "      <th>56</th>\n",
       "      <td>airplanes</td>\n",
       "      <td>600</td>\n",
       "      <td>200</td>\n",
       "    </tr>\n",
       "    <tr>\n",
       "      <th>51</th>\n",
       "      <td>Motorbikes</td>\n",
       "      <td>598</td>\n",
       "      <td>200</td>\n",
       "    </tr>\n",
       "    <tr>\n",
       "      <th>46</th>\n",
       "      <td>BACKGROUND_Google</td>\n",
       "      <td>351</td>\n",
       "      <td>117</td>\n",
       "    </tr>\n",
       "    <tr>\n",
       "      <th>42</th>\n",
       "      <td>Faces_easy</td>\n",
       "      <td>326</td>\n",
       "      <td>109</td>\n",
       "    </tr>\n",
       "    <tr>\n",
       "      <th>27</th>\n",
       "      <td>Faces</td>\n",
       "      <td>326</td>\n",
       "      <td>109</td>\n",
       "    </tr>\n",
       "    <tr>\n",
       "      <th>97</th>\n",
       "      <td>watch</td>\n",
       "      <td>179</td>\n",
       "      <td>60</td>\n",
       "    </tr>\n",
       "    <tr>\n",
       "      <th>31</th>\n",
       "      <td>Leopards</td>\n",
       "      <td>150</td>\n",
       "      <td>50</td>\n",
       "    </tr>\n",
       "    <tr>\n",
       "      <th>71</th>\n",
       "      <td>bonsai</td>\n",
       "      <td>96</td>\n",
       "      <td>32</td>\n",
       "    </tr>\n",
       "    <tr>\n",
       "      <th>78</th>\n",
       "      <td>car_side</td>\n",
       "      <td>92</td>\n",
       "      <td>31</td>\n",
       "    </tr>\n",
       "    <tr>\n",
       "      <th>29</th>\n",
       "      <td>ketch</td>\n",
       "      <td>85</td>\n",
       "      <td>29</td>\n",
       "    </tr>\n",
       "    <tr>\n",
       "      <th>40</th>\n",
       "      <td>chandelier</td>\n",
       "      <td>80</td>\n",
       "      <td>27</td>\n",
       "    </tr>\n",
       "    <tr>\n",
       "      <th>4</th>\n",
       "      <td>hawksbill</td>\n",
       "      <td>75</td>\n",
       "      <td>25</td>\n",
       "    </tr>\n",
       "    <tr>\n",
       "      <th>90</th>\n",
       "      <td>grand_piano</td>\n",
       "      <td>74</td>\n",
       "      <td>25</td>\n",
       "    </tr>\n",
       "    <tr>\n",
       "      <th>9</th>\n",
       "      <td>brain</td>\n",
       "      <td>73</td>\n",
       "      <td>25</td>\n",
       "    </tr>\n",
       "    <tr>\n",
       "      <th>37</th>\n",
       "      <td>butterfly</td>\n",
       "      <td>68</td>\n",
       "      <td>23</td>\n",
       "    </tr>\n",
       "    <tr>\n",
       "      <th>34</th>\n",
       "      <td>helicopter</td>\n",
       "      <td>66</td>\n",
       "      <td>22</td>\n",
       "    </tr>\n",
       "    <tr>\n",
       "      <th>80</th>\n",
       "      <td>menorah</td>\n",
       "      <td>65</td>\n",
       "      <td>22</td>\n",
       "    </tr>\n",
       "    <tr>\n",
       "      <th>94</th>\n",
       "      <td>trilobite</td>\n",
       "      <td>64</td>\n",
       "      <td>22</td>\n",
       "    </tr>\n",
       "    <tr>\n",
       "      <th>101</th>\n",
       "      <td>starfish</td>\n",
       "      <td>64</td>\n",
       "      <td>22</td>\n",
       "    </tr>\n",
       "    <tr>\n",
       "      <th>92</th>\n",
       "      <td>kangaroo</td>\n",
       "      <td>64</td>\n",
       "      <td>22</td>\n",
       "    </tr>\n",
       "    <tr>\n",
       "      <th>35</th>\n",
       "      <td>buddha</td>\n",
       "      <td>63</td>\n",
       "      <td>22</td>\n",
       "    </tr>\n",
       "    <tr>\n",
       "      <th>30</th>\n",
       "      <td>ewer</td>\n",
       "      <td>63</td>\n",
       "      <td>22</td>\n",
       "    </tr>\n",
       "    <tr>\n",
       "      <th>41</th>\n",
       "      <td>sunflower</td>\n",
       "      <td>63</td>\n",
       "      <td>22</td>\n",
       "    </tr>\n",
       "    <tr>\n",
       "      <th>39</th>\n",
       "      <td>scorpion</td>\n",
       "      <td>63</td>\n",
       "      <td>21</td>\n",
       "    </tr>\n",
       "    <tr>\n",
       "      <th>76</th>\n",
       "      <td>revolver</td>\n",
       "      <td>61</td>\n",
       "      <td>21</td>\n",
       "    </tr>\n",
       "    <tr>\n",
       "      <th>86</th>\n",
       "      <td>laptop</td>\n",
       "      <td>60</td>\n",
       "      <td>21</td>\n",
       "    </tr>\n",
       "    <tr>\n",
       "      <th>13</th>\n",
       "      <td>ibis</td>\n",
       "      <td>60</td>\n",
       "      <td>20</td>\n",
       "    </tr>\n",
       "    <tr>\n",
       "      <th>83</th>\n",
       "      <td>llama</td>\n",
       "      <td>58</td>\n",
       "      <td>20</td>\n",
       "    </tr>\n",
       "    <tr>\n",
       "      <th>59</th>\n",
       "      <td>minaret</td>\n",
       "      <td>57</td>\n",
       "      <td>19</td>\n",
       "    </tr>\n",
       "    <tr>\n",
       "      <th>58</th>\n",
       "      <td>umbrella</td>\n",
       "      <td>56</td>\n",
       "      <td>19</td>\n",
       "    </tr>\n",
       "    <tr>\n",
       "      <th>...</th>\n",
       "      <td>...</td>\n",
       "      <td>...</td>\n",
       "      <td>...</td>\n",
       "    </tr>\n",
       "    <tr>\n",
       "      <th>19</th>\n",
       "      <td>cougar_body</td>\n",
       "      <td>35</td>\n",
       "      <td>12</td>\n",
       "    </tr>\n",
       "    <tr>\n",
       "      <th>26</th>\n",
       "      <td>ceiling_fan</td>\n",
       "      <td>35</td>\n",
       "      <td>12</td>\n",
       "    </tr>\n",
       "    <tr>\n",
       "      <th>81</th>\n",
       "      <td>beaver</td>\n",
       "      <td>34</td>\n",
       "      <td>12</td>\n",
       "    </tr>\n",
       "    <tr>\n",
       "      <th>33</th>\n",
       "      <td>pigeon</td>\n",
       "      <td>33</td>\n",
       "      <td>12</td>\n",
       "    </tr>\n",
       "    <tr>\n",
       "      <th>8</th>\n",
       "      <td>stapler</td>\n",
       "      <td>33</td>\n",
       "      <td>12</td>\n",
       "    </tr>\n",
       "    <tr>\n",
       "      <th>11</th>\n",
       "      <td>flamingo_head</td>\n",
       "      <td>33</td>\n",
       "      <td>12</td>\n",
       "    </tr>\n",
       "    <tr>\n",
       "      <th>43</th>\n",
       "      <td>brontosaurus</td>\n",
       "      <td>32</td>\n",
       "      <td>11</td>\n",
       "    </tr>\n",
       "    <tr>\n",
       "      <th>66</th>\n",
       "      <td>mandolin</td>\n",
       "      <td>32</td>\n",
       "      <td>11</td>\n",
       "    </tr>\n",
       "    <tr>\n",
       "      <th>57</th>\n",
       "      <td>cannon</td>\n",
       "      <td>32</td>\n",
       "      <td>11</td>\n",
       "    </tr>\n",
       "    <tr>\n",
       "      <th>63</th>\n",
       "      <td>headphone</td>\n",
       "      <td>31</td>\n",
       "      <td>11</td>\n",
       "    </tr>\n",
       "    <tr>\n",
       "      <th>88</th>\n",
       "      <td>ant</td>\n",
       "      <td>31</td>\n",
       "      <td>11</td>\n",
       "    </tr>\n",
       "    <tr>\n",
       "      <th>49</th>\n",
       "      <td>anchor</td>\n",
       "      <td>31</td>\n",
       "      <td>11</td>\n",
       "    </tr>\n",
       "    <tr>\n",
       "      <th>89</th>\n",
       "      <td>mayfly</td>\n",
       "      <td>30</td>\n",
       "      <td>10</td>\n",
       "    </tr>\n",
       "    <tr>\n",
       "      <th>91</th>\n",
       "      <td>saxophone</td>\n",
       "      <td>30</td>\n",
       "      <td>10</td>\n",
       "    </tr>\n",
       "    <tr>\n",
       "      <th>82</th>\n",
       "      <td>lobster</td>\n",
       "      <td>30</td>\n",
       "      <td>11</td>\n",
       "    </tr>\n",
       "    <tr>\n",
       "      <th>55</th>\n",
       "      <td>wrench</td>\n",
       "      <td>29</td>\n",
       "      <td>10</td>\n",
       "    </tr>\n",
       "    <tr>\n",
       "      <th>45</th>\n",
       "      <td>scissors</td>\n",
       "      <td>29</td>\n",
       "      <td>10</td>\n",
       "    </tr>\n",
       "    <tr>\n",
       "      <th>52</th>\n",
       "      <td>okapi</td>\n",
       "      <td>29</td>\n",
       "      <td>10</td>\n",
       "    </tr>\n",
       "    <tr>\n",
       "      <th>73</th>\n",
       "      <td>panda</td>\n",
       "      <td>28</td>\n",
       "      <td>10</td>\n",
       "    </tr>\n",
       "    <tr>\n",
       "      <th>70</th>\n",
       "      <td>water_lilly</td>\n",
       "      <td>27</td>\n",
       "      <td>10</td>\n",
       "    </tr>\n",
       "    <tr>\n",
       "      <th>20</th>\n",
       "      <td>octopus</td>\n",
       "      <td>26</td>\n",
       "      <td>9</td>\n",
       "    </tr>\n",
       "    <tr>\n",
       "      <th>60</th>\n",
       "      <td>strawberry</td>\n",
       "      <td>26</td>\n",
       "      <td>9</td>\n",
       "    </tr>\n",
       "    <tr>\n",
       "      <th>17</th>\n",
       "      <td>snoopy</td>\n",
       "      <td>26</td>\n",
       "      <td>9</td>\n",
       "    </tr>\n",
       "    <tr>\n",
       "      <th>18</th>\n",
       "      <td>garfield</td>\n",
       "      <td>25</td>\n",
       "      <td>9</td>\n",
       "    </tr>\n",
       "    <tr>\n",
       "      <th>5</th>\n",
       "      <td>gerenuk</td>\n",
       "      <td>25</td>\n",
       "      <td>9</td>\n",
       "    </tr>\n",
       "    <tr>\n",
       "      <th>95</th>\n",
       "      <td>wild_cat</td>\n",
       "      <td>25</td>\n",
       "      <td>9</td>\n",
       "    </tr>\n",
       "    <tr>\n",
       "      <th>23</th>\n",
       "      <td>platypus</td>\n",
       "      <td>25</td>\n",
       "      <td>9</td>\n",
       "    </tr>\n",
       "    <tr>\n",
       "      <th>61</th>\n",
       "      <td>binocular</td>\n",
       "      <td>24</td>\n",
       "      <td>9</td>\n",
       "    </tr>\n",
       "    <tr>\n",
       "      <th>12</th>\n",
       "      <td>metronome</td>\n",
       "      <td>24</td>\n",
       "      <td>8</td>\n",
       "    </tr>\n",
       "    <tr>\n",
       "      <th>69</th>\n",
       "      <td>inline_skate</td>\n",
       "      <td>23</td>\n",
       "      <td>8</td>\n",
       "    </tr>\n",
       "  </tbody>\n",
       "</table>\n",
       "<p>102 rows × 3 columns</p>\n",
       "</div>"
      ],
      "text/plain": [
       "              category  n_train  n_test\n",
       "56           airplanes      600     200\n",
       "51          Motorbikes      598     200\n",
       "46   BACKGROUND_Google      351     117\n",
       "42          Faces_easy      326     109\n",
       "27               Faces      326     109\n",
       "97               watch      179      60\n",
       "31            Leopards      150      50\n",
       "71              bonsai       96      32\n",
       "78            car_side       92      31\n",
       "29               ketch       85      29\n",
       "40          chandelier       80      27\n",
       "4            hawksbill       75      25\n",
       "90         grand_piano       74      25\n",
       "9                brain       73      25\n",
       "37           butterfly       68      23\n",
       "34          helicopter       66      22\n",
       "80             menorah       65      22\n",
       "94           trilobite       64      22\n",
       "101           starfish       64      22\n",
       "92            kangaroo       64      22\n",
       "35              buddha       63      22\n",
       "30                ewer       63      22\n",
       "41           sunflower       63      22\n",
       "39            scorpion       63      21\n",
       "76            revolver       61      21\n",
       "86              laptop       60      21\n",
       "13                ibis       60      20\n",
       "83               llama       58      20\n",
       "59             minaret       57      19\n",
       "58            umbrella       56      19\n",
       "..                 ...      ...     ...\n",
       "19         cougar_body       35      12\n",
       "26         ceiling_fan       35      12\n",
       "81              beaver       34      12\n",
       "33              pigeon       33      12\n",
       "8              stapler       33      12\n",
       "11       flamingo_head       33      12\n",
       "43        brontosaurus       32      11\n",
       "66            mandolin       32      11\n",
       "57              cannon       32      11\n",
       "63           headphone       31      11\n",
       "88                 ant       31      11\n",
       "49              anchor       31      11\n",
       "89              mayfly       30      10\n",
       "91           saxophone       30      10\n",
       "82             lobster       30      11\n",
       "55              wrench       29      10\n",
       "45            scissors       29      10\n",
       "52               okapi       29      10\n",
       "73               panda       28      10\n",
       "70         water_lilly       27      10\n",
       "20             octopus       26       9\n",
       "60          strawberry       26       9\n",
       "17              snoopy       26       9\n",
       "18            garfield       25       9\n",
       "5              gerenuk       25       9\n",
       "95            wild_cat       25       9\n",
       "23            platypus       25       9\n",
       "61           binocular       24       9\n",
       "12           metronome       24       8\n",
       "69        inline_skate       23       8\n",
       "\n",
       "[102 rows x 3 columns]"
      ]
     },
     "execution_count": 144,
     "metadata": {},
     "output_type": "execute_result"
    }
   ],
   "source": [
    "cat_df"
   ]
  },
  {
   "cell_type": "code",
   "execution_count": 145,
   "metadata": {},
   "outputs": [
    {
     "data": {
      "text/plain": [
       "Text(0.5, 1.0, 'Training Images by Category')"
      ]
     },
     "execution_count": 145,
     "metadata": {},
     "output_type": "execute_result"
    },
    {
     "data": {
      "image/png": "[encoded data removed]",
      "text/plain": [
       "<Figure size 1440x432 with 1 Axes>"
      ]
     },
     "metadata": {
      "needs_background": "light"
     },
     "output_type": "display_data"
    }
   ],
   "source": [
    "cat_df.set_index('category')['n_train'].plot.bar(\n",
    "    color='r', figsize=(20, 6))\n",
    "plt.xticks(rotation=80)\n",
    "plt.ylabel('Count')\n",
    "plt.title('Training Images by Category')"
   ]
  },
  {
   "cell_type": "code",
   "execution_count": 165,
   "metadata": {},
   "outputs": [],
   "source": [
    "import torch.nn as nn\n",
    "from torchvision import transforms, datasets, models\n",
    "\n",
    "task_model=models.vgg16(pretrained=True)#model.WRN_caltech_actual(args.device,args.num_classes, num_colors, args)\n",
    "for param in task_model.parameters():\n",
    "    param.requires_grad = False\n",
    "    n_inputs =25088# task_model.classifier[6][0].in_features\n",
    "    # Add on classifier\n",
    "    task_model.classifier[6] = nn.Sequential(\n",
    "        nn.Linear(4096, 256), nn.ReLU(), nn.Dropout(0.2),\n",
    "        nn.Linear(256, 101), nn.LogSoftmax(dim=1))"
   ]
  },
  {
   "cell_type": "code",
   "execution_count": 166,
   "metadata": {},
   "outputs": [
    {
     "data": {
      "text/plain": [
       "VGG(\n",
       "  (features): Sequential(\n",
       "    (0): Conv2d(3, 64, kernel_size=(3, 3), stride=(1, 1), padding=(1, 1))\n",
       "    (1): ReLU(inplace=True)\n",
       "    (2): Conv2d(64, 64, kernel_size=(3, 3), stride=(1, 1), padding=(1, 1))\n",
       "    (3): ReLU(inplace=True)\n",
       "    (4): MaxPool2d(kernel_size=2, stride=2, padding=0, dilation=1, ceil_mode=False)\n",
       "    (5): Conv2d(64, 128, kernel_size=(3, 3), stride=(1, 1), padding=(1, 1))\n",
       "    (6): ReLU(inplace=True)\n",
       "    (7): Conv2d(128, 128, kernel_size=(3, 3), stride=(1, 1), padding=(1, 1))\n",
       "    (8): ReLU(inplace=True)\n",
       "    (9): MaxPool2d(kernel_size=2, stride=2, padding=0, dilation=1, ceil_mode=False)\n",
       "    (10): Conv2d(128, 256, kernel_size=(3, 3), stride=(1, 1), padding=(1, 1))\n",
       "    (11): ReLU(inplace=True)\n",
       "    (12): Conv2d(256, 256, kernel_size=(3, 3), stride=(1, 1), padding=(1, 1))\n",
       "    (13): ReLU(inplace=True)\n",
       "    (14): Conv2d(256, 256, kernel_size=(3, 3), stride=(1, 1), padding=(1, 1))\n",
       "    (15): ReLU(inplace=True)\n",
       "    (16): MaxPool2d(kernel_size=2, stride=2, padding=0, dilation=1, ceil_mode=False)\n",
       "    (17): Conv2d(256, 512, kernel_size=(3, 3), stride=(1, 1), padding=(1, 1))\n",
       "    (18): ReLU(inplace=True)\n",
       "    (19): Conv2d(512, 512, kernel_size=(3, 3), stride=(1, 1), padding=(1, 1))\n",
       "    (20): ReLU(inplace=True)\n",
       "    (21): Conv2d(512, 512, kernel_size=(3, 3), stride=(1, 1), padding=(1, 1))\n",
       "    (22): ReLU(inplace=True)\n",
       "    (23): MaxPool2d(kernel_size=2, stride=2, padding=0, dilation=1, ceil_mode=False)\n",
       "    (24): Conv2d(512, 512, kernel_size=(3, 3), stride=(1, 1), padding=(1, 1))\n",
       "    (25): ReLU(inplace=True)\n",
       "    (26): Conv2d(512, 512, kernel_size=(3, 3), stride=(1, 1), padding=(1, 1))\n",
       "    (27): ReLU(inplace=True)\n",
       "    (28): Conv2d(512, 512, kernel_size=(3, 3), stride=(1, 1), padding=(1, 1))\n",
       "    (29): ReLU(inplace=True)\n",
       "    (30): MaxPool2d(kernel_size=2, stride=2, padding=0, dilation=1, ceil_mode=False)\n",
       "  )\n",
       "  (avgpool): AdaptiveAvgPool2d(output_size=(7, 7))\n",
       "  (classifier): Sequential(\n",
       "    (0): Linear(in_features=25088, out_features=4096, bias=True)\n",
       "    (1): ReLU(inplace=True)\n",
       "    (2): Dropout(p=0.5, inplace=False)\n",
       "    (3): Linear(in_features=4096, out_features=4096, bias=True)\n",
       "    (4): ReLU(inplace=True)\n",
       "    (5): Dropout(p=0.5, inplace=False)\n",
       "    (6): Sequential(\n",
       "      (0): Linear(in_features=4096, out_features=256, bias=True)\n",
       "      (1): ReLU()\n",
       "      (2): Dropout(p=0.2, inplace=False)\n",
       "      (3): Linear(in_features=256, out_features=101, bias=True)\n",
       "      (4): LogSoftmax()\n",
       "    )\n",
       "  )\n",
       ")"
      ]
     },
     "execution_count": 166,
     "metadata": {},
     "output_type": "execute_result"
    }
   ],
   "source": [
    "task_model#.classifier[6][0].in_features"
   ]
  },
  {
   "cell_type": "code",
   "execution_count": 160,
   "metadata": {},
   "outputs": [
    {
     "data": {
      "text/plain": [
       "VGG(\n",
       "  (features): Sequential(\n",
       "    (0): Conv2d(3, 64, kernel_size=(3, 3), stride=(1, 1), padding=(1, 1))\n",
       "    (1): ReLU(inplace=True)\n",
       "    (2): Conv2d(64, 64, kernel_size=(3, 3), stride=(1, 1), padding=(1, 1))\n",
       "    (3): ReLU(inplace=True)\n",
       "    (4): MaxPool2d(kernel_size=2, stride=2, padding=0, dilation=1, ceil_mode=False)\n",
       "    (5): Conv2d(64, 128, kernel_size=(3, 3), stride=(1, 1), padding=(1, 1))\n",
       "    (6): ReLU(inplace=True)\n",
       "    (7): Conv2d(128, 128, kernel_size=(3, 3), stride=(1, 1), padding=(1, 1))\n",
       "    (8): ReLU(inplace=True)\n",
       "    (9): MaxPool2d(kernel_size=2, stride=2, padding=0, dilation=1, ceil_mode=False)\n",
       "    (10): Conv2d(128, 256, kernel_size=(3, 3), stride=(1, 1), padding=(1, 1))\n",
       "    (11): ReLU(inplace=True)\n",
       "    (12): Conv2d(256, 256, kernel_size=(3, 3), stride=(1, 1), padding=(1, 1))\n",
       "    (13): ReLU(inplace=True)\n",
       "    (14): Conv2d(256, 256, kernel_size=(3, 3), stride=(1, 1), padding=(1, 1))\n",
       "    (15): ReLU(inplace=True)\n",
       "    (16): MaxPool2d(kernel_size=2, stride=2, padding=0, dilation=1, ceil_mode=False)\n",
       "    (17): Conv2d(256, 512, kernel_size=(3, 3), stride=(1, 1), padding=(1, 1))\n",
       "    (18): ReLU(inplace=True)\n",
       "    (19): Conv2d(512, 512, kernel_size=(3, 3), stride=(1, 1), padding=(1, 1))\n",
       "    (20): ReLU(inplace=True)\n",
       "    (21): Conv2d(512, 512, kernel_size=(3, 3), stride=(1, 1), padding=(1, 1))\n",
       "    (22): ReLU(inplace=True)\n",
       "    (23): MaxPool2d(kernel_size=2, stride=2, padding=0, dilation=1, ceil_mode=False)\n",
       "    (24): Conv2d(512, 512, kernel_size=(3, 3), stride=(1, 1), padding=(1, 1))\n",
       "    (25): ReLU(inplace=True)\n",
       "    (26): Conv2d(512, 512, kernel_size=(3, 3), stride=(1, 1), padding=(1, 1))\n",
       "    (27): ReLU(inplace=True)\n",
       "    (28): Conv2d(512, 512, kernel_size=(3, 3), stride=(1, 1), padding=(1, 1))\n",
       "    (29): ReLU(inplace=True)\n",
       "    (30): MaxPool2d(kernel_size=2, stride=2, padding=0, dilation=1, ceil_mode=False)\n",
       "  )\n",
       "  (avgpool): AdaptiveAvgPool2d(output_size=(7, 7))\n",
       "  (classifier): Sequential(\n",
       "    (0): Linear(in_features=25088, out_features=4096, bias=True)\n",
       "    (1): ReLU(inplace=True)\n",
       "    (2): Dropout(p=0.5, inplace=False)\n",
       "    (3): Linear(in_features=4096, out_features=4096, bias=True)\n",
       "    (4): ReLU(inplace=True)\n",
       "    (5): Dropout(p=0.5, inplace=False)\n",
       "    (6): Linear(in_features=4096, out_features=1000, bias=True)\n",
       "  )\n",
       ")"
      ]
     },
     "execution_count": 160,
     "metadata": {},
     "output_type": "execute_result"
    }
   ],
   "source": [
    "task_model"
   ]
  },
  {
   "cell_type": "code",
   "execution_count": null,
   "metadata": {},
   "outputs": [],
   "source": []
  }
 ],
 "metadata": {
  "kernelspec": {
   "display_name": "Python 3",
   "language": "python",
   "name": "python3"
  },
  "language_info": {
   "codemirror_mode": {
    "name": "ipython",
    "version": 3
   },
   "file_extension": ".py",
   "mimetype": "text/x-python",
   "name": "python",
   "nbconvert_exporter": "python",
   "pygments_lexer": "ipython3",
   "version": "3.7.3"
  }
 },
 "nbformat": 4,
 "nbformat_minor": 2
}
